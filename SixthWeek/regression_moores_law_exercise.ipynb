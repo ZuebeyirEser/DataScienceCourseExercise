{
 "cells": [
  {
   "cell_type": "code",
   "execution_count": null,
   "metadata": {},
   "outputs": [],
   "source": [
    "import numpy as np\n",
    "import pandas as pd\n",
    "import matplotlib.pyplot as plt\n",
    "import seaborn as sns\n",
    "from sklearn.linear_model import LinearRegression\n",
    "import warnings\n",
    "warnings.filterwarnings(\"ignore\")"
   ]
  },
  {
   "cell_type": "markdown",
   "metadata": {},
   "source": [
    "# Moore's Law\n",
    "\n",
    "Microprocessor data from https://en.wikipedia.org/wiki/Transistor_count\n",
    "\n",
    "Objective: Moore's law states that the number of transistors doubles every $m$ months (for comparable processors). We want to understand this and determine the exact number of months $m$.\n",
    "\n",
    "Guide:\n",
    "- First plot the number of transistors as a function of the year. This shows the exponential growth.\n",
    "- Look at the number of transistors on a logarithmic scale (or explicitly compute the logarithm of the number of transistors before plotting).\n",
    "- Model this data with a linear regression line and determine the slope of the regression line.\n",
    "- Determine the information you are looking for from the slope. \n",
    "\n",
    "(Mathematical hint:\n",
    "If you model the logarithmized $y$-values as a function of the $x$-values (for the sake of simplicity directly to the base $2$), this means\n",
    "$$\\log_2(y) = \\beta_0 + \\beta_1 \\cdot x$$\n",
    "\n",
    "Conversion to $y$ gives:\n",
    "$$y = 2^{\\beta_0 + \\beta_1 \\cdot x} = 2^{\\beta_0} \\cdot 2^{\\beta_1 \\cdot x}$$\n",
    "\n",
    "This means that if you increase $x$ by one unit (in this case one year), $y$ (in this case the number of transistors) increases by a factor of $2^{\\beta_1}$.\n",
    "Or if you increase $x$ by $\\frac{1}{\\beta_1}$, y increases by a factor of 2. How large is $\\frac{1}{\\beta_1}$?)"
   ]
  },
  {
   "cell_type": "code",
   "execution_count": null,
   "metadata": {},
   "outputs": [],
   "source": [
    "microprocessors = pd.read_csv(\"microprocessors.csv\")\n",
    "microprocessors.head()"
   ]
  }
 ],
 "metadata": {
  "kernelspec": {
   "display_name": "FoDS",
   "language": "python",
   "name": "python3"
  },
  "language_info": {
   "codemirror_mode": {
    "name": "ipython",
    "version": 3
   },
   "file_extension": ".py",
   "mimetype": "text/x-python",
   "name": "python",
   "nbconvert_exporter": "python",
   "pygments_lexer": "ipython3",
   "version": "3.12.7"
  },
  "orig_nbformat": 4
 },
 "nbformat": 4,
 "nbformat_minor": 2
}
