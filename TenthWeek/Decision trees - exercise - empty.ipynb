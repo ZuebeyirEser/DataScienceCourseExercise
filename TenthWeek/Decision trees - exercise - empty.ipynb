{
 "cells": [
  {
   "cell_type": "code",
   "execution_count": 1,
   "metadata": {},
   "outputs": [],
   "source": [
    "import pandas as pd\n",
    "import matplotlib.pyplot as plt\n",
    "import seaborn as sns\n",
    "\n",
    "from sklearn.tree import DecisionTreeClassifier\n",
    "from sklearn.tree import plot_tree\n",
    "from sklearn.metrics import classification_report\n",
    "\n",
    "from sklearn.datasets import make_moons\n",
    "from sklearn.inspection import DecisionBoundaryDisplay\n",
    "\n",
    "from sklearn.ensemble import RandomForestClassifier"
   ]
  },
  {
   "cell_type": "markdown",
   "metadata": {},
   "source": [
    "## Classification of nice and ugly shapes"
   ]
  },
  {
   "cell_type": "code",
   "execution_count": null,
   "metadata": {},
   "outputs": [],
   "source": [
    "df_train = pd.DataFrame({\n",
    "    \"circle\": [True, False, False, False, True, True],\n",
    "    \"filled\": [False, True, True, True, False, True],\n",
    "    \"red\": [False, False, False, True, True, False],\n",
    "    \"label\": [\"nice\", \"nice\", \"nice\", \"ugly\", \"ugly\", \"ugly\"] })\n",
    "df_train"
   ]
  },
  {
   "cell_type": "code",
   "execution_count": null,
   "metadata": {},
   "outputs": [],
   "source": []
  },
  {
   "cell_type": "code",
   "execution_count": null,
   "metadata": {},
   "outputs": [],
   "source": []
  },
  {
   "cell_type": "markdown",
   "metadata": {},
   "source": [
    "Now use the model on the test data and evaluate its quality."
   ]
  },
  {
   "cell_type": "code",
   "execution_count": null,
   "metadata": {},
   "outputs": [],
   "source": [
    "df_test = pd.DataFrame({\n",
    "    \"circle\": [False, False, True, True],\n",
    "    \"filled\": [False, False, True, True],\n",
    "    \"red\": [True, False, False, True],\n",
    "    \"label\": [\"nice\", \"nice\", \"ugly\", \"ugly\"] })\n",
    "df_test"
   ]
  },
  {
   "cell_type": "code",
   "execution_count": null,
   "metadata": {},
   "outputs": [],
   "source": []
  },
  {
   "cell_type": "code",
   "execution_count": null,
   "metadata": {},
   "outputs": [],
   "source": []
  },
  {
   "attachments": {},
   "cell_type": "markdown",
   "metadata": {},
   "source": [
    "## Two Moons\n",
    "\n",
    "First, we create the data set with two entangled moons."
   ]
  },
  {
   "cell_type": "code",
   "execution_count": 8,
   "metadata": {},
   "outputs": [],
   "source": [
    "X, y = make_moons(n_samples=100, noise = 0.25, random_state=0)\n",
    "y_cat = pd.Categorical.from_codes(y, categories=[\"A\", \"B\"])"
   ]
  },
  {
   "cell_type": "code",
   "execution_count": null,
   "metadata": {},
   "outputs": [],
   "source": [
    "sns.set_theme()\n",
    "\n",
    "fig, ax = plt.subplots(figsize = (4, 4))\n",
    "sns.scatterplot(ax=ax, x = X[:, 0], y = X[:, 1], hue=y, palette=[\"tab:red\", \"tab:blue\"])\n",
    "ax.set(xlabel= \"X[0]\", ylabel=\"X[1]\")\n",
    "plt.show()"
   ]
  },
  {
   "attachments": {},
   "cell_type": "markdown",
   "metadata": {},
   "source": [
    "Now fit a decision tree of depth 1."
   ]
  },
  {
   "cell_type": "code",
   "execution_count": null,
   "metadata": {},
   "outputs": [],
   "source": [
    "tree_1 = DecisionTreeClassifier(max_depth=1)\n",
    "tree_1.fit(X, y)"
   ]
  },
  {
   "cell_type": "code",
   "execution_count": null,
   "metadata": {},
   "outputs": [],
   "source": [
    "fig, ax = plt.subplots(figsize=(4,4))\n",
    "\n",
    "DecisionBoundaryDisplay.from_estimator(ax=ax, estimator = tree_1, X= X,\n",
    "    grid_resolution=200, eps=0.1, alpha=0.3, cmap=\"RdBu\", response_method=\"predict\")\n",
    "\n",
    "sns.scatterplot(ax=ax, x = X[:, 0], y = X[:, 1], hue=y_cat, palette=[\"tab:red\", \"tab:blue\"])\n",
    "ax.set(xlabel= \"X[0]\", ylabel=\"X[1]\")\n",
    "plt.show()"
   ]
  },
  {
   "cell_type": "code",
   "execution_count": null,
   "metadata": {},
   "outputs": [],
   "source": [
    "plot_tree(tree_1,\n",
    "    class_names=[\"A\", \"B\"],\n",
    "    label = \"all\",\n",
    "    impurity=False,\n",
    "    fontsize = 10)\n",
    "plt.show()"
   ]
  },
  {
   "attachments": {},
   "cell_type": "markdown",
   "metadata": {},
   "source": [
    "For comparison we train a decision tree of depth 2 and also show the corresponding decision boundaries."
   ]
  },
  {
   "cell_type": "code",
   "execution_count": null,
   "metadata": {},
   "outputs": [],
   "source": [
    "tree_2 = DecisionTreeClassifier(max_depth=2)\n",
    "tree_2.fit(X, y)\n",
    "\n",
    "fig, axs = plt.subplots(1, 2, figsize=(12, 5), layout=\"constrained\")\n",
    "\n",
    "DecisionBoundaryDisplay.from_estimator(ax=axs[0], estimator = tree_2, X= X,\n",
    "    grid_resolution=200, eps=0.1, alpha=0.3, cmap=\"RdBu\", response_method=\"predict\")\n",
    "\n",
    "sns.scatterplot(ax=axs[0], x = X[:, 0], y = X[:, 1], hue=y_cat, palette=[\"tab:red\", \"tab:blue\"])\n",
    "axs[0].set(xlabel= \"X[0]\", ylabel=\"X[1]\")\n",
    "\n",
    "plot_tree(tree_2, ax=axs[1],\n",
    "    class_names=[\"A\", \"B\"],\n",
    "    label = \"all\",\n",
    "    impurity=False)\n",
    "\n",
    "plt.show()"
   ]
  },
  {
   "attachments": {},
   "cell_type": "markdown",
   "metadata": {},
   "source": [
    "Finally, a decision tree of unbounded depth."
   ]
  },
  {
   "cell_type": "code",
   "execution_count": null,
   "metadata": {},
   "outputs": [],
   "source": [
    "tree_full = DecisionTreeClassifier()\n",
    "tree_full.fit(X, y)\n",
    "\n",
    "fig, axs = plt.subplots(1, 2, figsize=(12, 5), layout=\"constrained\")\n",
    "\n",
    "DecisionBoundaryDisplay.from_estimator(ax=axs[0], estimator = tree_full, X= X,\n",
    "    grid_resolution=200, eps=0.1, alpha=0.3, cmap=\"RdBu\", response_method=\"predict\")\n",
    "\n",
    "sns.scatterplot(ax=axs[0], x = X[:, 0], y = X[:, 1], hue=y_cat, palette=[\"tab:red\", \"tab:blue\"])\n",
    "axs[0].set(xlabel= \"X[0]\", ylabel=\"X[1]\")\n",
    "\n",
    "plot_tree(tree_full, ax=axs[1],\n",
    "    class_names=[\"A\", \"B\"],\n",
    "    label = \"all\",\n",
    "    impurity=False)\n",
    "\n",
    "plt.show()"
   ]
  },
  {
   "attachments": {},
   "cell_type": "markdown",
   "metadata": {},
   "source": [
    "### Random Forests\n",
    "\n",
    "We train an ensemble of 100 slightly different decision trees, where each tree only has a relatively small depth."
   ]
  },
  {
   "cell_type": "code",
   "execution_count": null,
   "metadata": {},
   "outputs": [],
   "source": [
    "rf = RandomForestClassifier(n_estimators=100, max_depth=3, random_state=0).fit(X, y)\n",
    "\n",
    "fig, ax = plt.subplots(1, 1, figsize=(6, 5), layout=\"constrained\")\n",
    "\n",
    "DecisionBoundaryDisplay.from_estimator(ax=ax, estimator = rf, X= X, \n",
    "    grid_resolution=200, eps=0.1, alpha=0.3, cmap=\"RdBu\", response_method=\"predict\")\n",
    "\n",
    "sns.scatterplot(ax=ax, x = X[:, 0], y = X[:, 1], hue=y_cat, palette=[\"tab:red\", \"tab:blue\"])\n",
    "\n",
    "ax.set(xlabel= \"X[0]\", ylabel=\"X[1]\")\n",
    "\n",
    "plt.show()"
   ]
  }
 ],
 "metadata": {
  "kernelspec": {
   "display_name": "FoDS",
   "language": "python",
   "name": "python3"
  },
  "language_info": {
   "codemirror_mode": {
    "name": "ipython",
    "version": 3
   },
   "file_extension": ".py",
   "mimetype": "text/x-python",
   "name": "python",
   "nbconvert_exporter": "python",
   "pygments_lexer": "ipython3",
   "version": "3.8.20"
  },
  "orig_nbformat": 4
 },
 "nbformat": 4,
 "nbformat_minor": 2
}
