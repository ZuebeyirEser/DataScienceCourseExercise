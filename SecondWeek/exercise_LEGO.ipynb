{
 "cells": [
  {
   "cell_type": "markdown",
   "metadata": {},
   "source": [
    "# Application of the methods learned to the LEGO data set"
   ]
  },
  {
   "cell_type": "code",
   "execution_count": 2,
   "metadata": {},
   "outputs": [],
   "source": [
    "import numpy as numpy\n",
    "import pandas as pd"
   ]
  },
  {
   "cell_type": "markdown",
   "metadata": {},
   "source": [
    "## Import and first inspection\n",
    "\n",
    "Read in the data set `LEGO.csv` and get an initial overview of the data.\n",
    "The data set consists of several web scrapes of the LEGO website. When was this and how many sets were recorded in each case?\n",
    "\n",
    "In the following, we will limit ourselves to the most recent web scrape and look at this partial data set. As we will not only be using it for reading purposes but will also be creating new columns in it, a real copy of the data is suitable. (By default, the data is not copied during row selection)."
   ]
  },
  {
   "cell_type": "code",
   "execution_count": null,
   "metadata": {},
   "outputs": [],
   "source": []
  },
  {
   "cell_type": "markdown",
   "metadata": {},
   "source": [
    "## Task 1: Extreme models\n",
    "\n",
    "- How much does the most expensive current LEGO set cost?\n",
    "- Which set has the most parts?\n",
    "- How much money do you have to spend to buy ALL current LEGO sets?\n",
    "- Which one has the longest name?"
   ]
  },
  {
   "cell_type": "code",
   "execution_count": null,
   "metadata": {},
   "outputs": [],
   "source": []
  },
  {
   "cell_type": "markdown",
   "metadata": {},
   "source": [
    "## Task 2: Sets per theme\n",
    "\n",
    "We want to determine the number of sets per topic group and organize the themes according to this number. The topic sizes should then also be visualized as a bar chart."
   ]
  },
  {
   "cell_type": "code",
   "execution_count": null,
   "metadata": {},
   "outputs": [],
   "source": []
  },
  {
   "cell_type": "markdown",
   "metadata": {},
   "source": [
    "## Task 3: For which themes is the price per individual component particularly high?\n",
    "\n",
    "Determine the price per individual part for each set and calculate the mean value for each theme group. Then visualize your result as a bar chart."
   ]
  },
  {
   "cell_type": "code",
   "execution_count": null,
   "metadata": {},
   "outputs": [],
   "source": []
  }
 ],
 "metadata": {
  "kernelspec": {
   "display_name": "FoDS",
   "language": "python",
   "name": "python3"
  },
  "language_info": {
   "codemirror_mode": {
    "name": "ipython",
    "version": 3
   },
   "file_extension": ".py",
   "mimetype": "text/x-python",
   "name": "python",
   "nbconvert_exporter": "python",
   "pygments_lexer": "ipython3",
   "version": "3.12.7"
  },
  "orig_nbformat": 4
 },
 "nbformat": 4,
 "nbformat_minor": 2
}
