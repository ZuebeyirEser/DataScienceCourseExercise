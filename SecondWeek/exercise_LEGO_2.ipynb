{
 "cells": [
  {
   "cell_type": "markdown",
   "metadata": {},
   "source": [
    "# Practice session on pandas\n",
    "\n",
    "Reminder: https://pandas.pydata.org/Pandas_Cheat_Sheet.pdf"
   ]
  },
  {
   "cell_type": "code",
   "execution_count": 1,
   "metadata": {},
   "outputs": [],
   "source": [
    "import numpy as np\n",
    "import pandas as pd"
   ]
  },
  {
   "cell_type": "markdown",
   "metadata": {},
   "source": [
    "### Task 0: Read data\n",
    "Read in the LEGO.csv file and save it in a DataFrame called `LEGO_all`.\n",
    "Then create a DataFrame `LEGO`, which only contains the current models."
   ]
  },
  {
   "cell_type": "code",
   "execution_count": null,
   "metadata": {},
   "outputs": [],
   "source": []
  },
  {
   "cell_type": "markdown",
   "metadata": {},
   "source": [
    "### Task 1: Identify specific models\n",
    "\n",
    "Your nephew's birthday is coming up. Since he loves playing police, you want to find all current models that contain the word \"Polizei\" in the name and cost at most 20€.\n",
    "\n",
    "(Note that the name is of type `str`. A reference of str-specific functions can be found here:\n",
    "https://pandas.pydata.org/docs/reference/series.html#string-handling Since the name should **contain** a specific word, you might easily guess the correct function.)"
   ]
  },
  {
   "cell_type": "code",
   "execution_count": null,
   "metadata": {},
   "outputs": [],
   "source": []
  },
  {
   "cell_type": "markdown",
   "metadata": {},
   "source": [
    "### Task 2: Merchandising\n",
    "\n",
    "Some products are just merchandising. \n",
    "Think of a way to identify these rows and add a new boolean column \"merch\" to `LEGO_all` that indicates whether it contains a merchandising product or not."
   ]
  },
  {
   "cell_type": "code",
   "execution_count": null,
   "metadata": {},
   "outputs": [],
   "source": []
  },
  {
   "cell_type": "markdown",
   "metadata": {},
   "source": [
    "Does LEGO have more or less merchandising items in its range today than in the past?\n",
    "Build a DataFrame that shows for each date the total number of merchandising products and the number of real LEGO models."
   ]
  },
  {
   "cell_type": "code",
   "execution_count": null,
   "metadata": {},
   "outputs": [],
   "source": []
  },
  {
   "cell_type": "markdown",
   "metadata": {},
   "source": [
    "### Task 3: Pricing policy\n",
    "\n",
    "How often do the different prices occur in the current models?\n",
    "Build a DataFrame that shows the absolute frequency of every price and sort it according to these frequencies.\n",
    "\n",
    "Also add a column to your table in which the relative frequency (i.e. the percentage share) is shown rather than the absolute frequency."
   ]
  },
  {
   "cell_type": "code",
   "execution_count": null,
   "metadata": {},
   "outputs": [],
   "source": []
  },
  {
   "cell_type": "markdown",
   "metadata": {},
   "source": [
    "### Insertion\n",
    "\n",
    "So far, we have seen split-apply-combine in a relatively simple form.\n",
    "In most cases, an explicit column was selected after grouping and an aggregation function was applied to it.\n",
    "In principle, you can also apply any function to the respective SubDataFrames."
   ]
  },
  {
   "cell_type": "code",
   "execution_count": null,
   "metadata": {},
   "outputs": [],
   "source": [
    "def some_stats(groupdf):\n",
    "    rows = len(groupdf)\n",
    "    unique_prices = groupdf[\"price\"].nunique()\n",
    "    total_price = groupdf[\"price\"].sum()\n",
    "    return pd.Series([rows, unique_prices, total_price], index= [\"num_sets\", \"unique_prices\", \"total_price\"])\n",
    "\n",
    "(LEGO.groupby(\"theme\")\n",
    "    .apply(some_stats, include_groups=False)\n",
    "    .sort_values(\"total_price\", ascending = False)\n",
    "    .head(5))"
   ]
  },
  {
   "cell_type": "markdown",
   "metadata": {},
   "source": [
    "### Task 4\n",
    "\n",
    "Which models are permanently in the product range?"
   ]
  },
  {
   "cell_type": "code",
   "execution_count": null,
   "metadata": {},
   "outputs": [],
   "source": []
  },
  {
   "cell_type": "markdown",
   "metadata": {},
   "source": [
    "Which models are brand new to the product range?"
   ]
  },
  {
   "cell_type": "code",
   "execution_count": null,
   "metadata": {},
   "outputs": [],
   "source": []
  }
 ],
 "metadata": {
  "kernelspec": {
   "display_name": "FoDS",
   "language": "python",
   "name": "python3"
  },
  "language_info": {
   "codemirror_mode": {
    "name": "ipython",
    "version": 3
   },
   "file_extension": ".py",
   "mimetype": "text/x-python",
   "name": "python",
   "nbconvert_exporter": "python",
   "pygments_lexer": "ipython3",
   "version": "3.12.7"
  },
  "orig_nbformat": 4
 },
 "nbformat": 4,
 "nbformat_minor": 2
}
