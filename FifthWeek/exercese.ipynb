{
 "cells": [
  {
   "cell_type": "markdown",
   "metadata": {},
   "source": [
    "The following table shows the price distribution per liter of E10 for 20 petrol stations in the Aschaffenburg area:\n",
    "Price [€]\t1.70\t1.71\t1.73\t1.74\t1.75\t1.76\t1.79\n",
    "Count\t1\t4\t8\t2\t1\t1\t3\n",
    "\n",
    "Solve the following using only paper and a calculator:\n",
    "\n",
    "Determine the mean value\n",
    "\n",
    "Determine the median\n",
    "\n",
    "Determine the standard deviation\n",
    "Draw a histogram with the breaks 1.70€, 1.72€, 1.74€, ...\n",
    "Note: In Python, the interval count is performed by the function numpy.histogram. According to the documentation, all intervals (except for the rightmost one) are half-open, i.e. the breaks 10, 20, 30, 40 would lead to the intervals [10,20],[20,30] and [30,40]. As a rule, the left margin is therefore included.\n",
    "\n",
    "Do all of the above steps in Python.\n",
    "Note: In NumPy you can easily create an array containing the above data with the following command: np.repeat([1.70, 1.71, 1.73, 1.74, 1.75, 1.76, 1.79], repeats=[1, 4, 8, 2, 1, 1, 3])\n",
    "\n",
    "In Python: Standardize your data, i.e. determine the z-scores and display them in a histogram. What are the mean and standard deviation of the z-scores?"
   ]
  },
  {
   "cell_type": "code",
   "execution_count": 1,
   "metadata": {},
   "outputs": [],
   "source": [
    "import numpy as np\n",
    "import matplotlib.pyplot as plt"
   ]
  },
  {
   "cell_type": "markdown",
   "metadata": {},
   "source": [
    "Mean Calculation"
   ]
  },
  {
   "cell_type": "code",
   "execution_count": 2,
   "metadata": {},
   "outputs": [],
   "source": [
    "prices = np.array([1.70, 1.71, 1.73, 1.74, 1.75, 1.76, 1.79])\n",
    "counts = np.array([1, 4, 8, 2, 1, 1, 3])"
   ]
  },
  {
   "cell_type": "code",
   "execution_count": 3,
   "metadata": {},
   "outputs": [
    {
     "name": "stdout",
     "output_type": "stream",
     "text": [
      "Mean: 1.737\n"
     ]
    }
   ],
   "source": [
    "mean = np.sum(prices * counts) / np.sum(counts)\n",
    "print(f\"Mean: {mean}\")"
   ]
  },
  {
   "cell_type": "markdown",
   "metadata": {},
   "source": [
    "Median Calculation"
   ]
  },
  {
   "cell_type": "code",
   "execution_count": 4,
   "metadata": {},
   "outputs": [
    {
     "name": "stdout",
     "output_type": "stream",
     "text": [
      "Median: 1.73\n"
     ]
    }
   ],
   "source": [
    "extended_prices = np.repeat(prices, counts)\n",
    "median = np.median(extended_prices)\n",
    "print(f\"Median: {median}\")"
   ]
  },
  {
   "cell_type": "markdown",
   "metadata": {},
   "source": [
    "Standard Deviation Calculation"
   ]
  },
  {
   "cell_type": "code",
   "execution_count": 5,
   "metadata": {},
   "outputs": [
    {
     "name": "stdout",
     "output_type": "stream",
     "text": [
      "Standard Deviation: 0.026286878856189855\n"
     ]
    }
   ],
   "source": [
    "std_dev = np.std(extended_prices)\n",
    "print(f\"Standard Deviation: {std_dev}\")"
   ]
  },
  {
   "cell_type": "markdown",
   "metadata": {},
   "source": [
    "Histogram with specified breaks which is 0.02 €"
   ]
  },
  {
   "cell_type": "code",
   "execution_count": 6,
   "metadata": {},
   "outputs": [
    {
     "data": {
      "image/png": "[encoded data removed]",
      "text/plain": [
       "<Figure size 640x480 with 1 Axes>"
      ]
     },
     "metadata": {},
     "output_type": "display_data"
    }
   ],
   "source": [
    "breaks = np.arange(1.70, 1.80, 0.02)  # Intervals from 1.70 to 1.79\n",
    "hist, edges = np.histogram(extended_prices, bins=breaks)\n",
    "\n",
    "# Plotting the histogram\n",
    "plt.hist(extended_prices, bins=breaks, edgecolor='black', alpha=0.7)\n",
    "plt.title(\"Price Distribution of E10 at Petrol Stations\")\n",
    "plt.xlabel(\"Price [€]\")\n",
    "plt.ylabel(\"Frequency\")\n",
    "plt.xticks(np.arange(1.70, 1.80, 0.02))\n",
    "plt.grid(True)\n",
    "plt.show()"
   ]
  }
 ],
 "metadata": {
  "kernelspec": {
   "display_name": "base",
   "language": "python",
   "name": "python3"
  },
  "language_info": {
   "codemirror_mode": {
    "name": "ipython",
    "version": 3
   },
   "file_extension": ".py",
   "mimetype": "text/x-python",
   "name": "python",
   "nbconvert_exporter": "python",
   "pygments_lexer": "ipython3",
   "version": "3.12.4"
  }
 },
 "nbformat": 4,
 "nbformat_minor": 2
}
